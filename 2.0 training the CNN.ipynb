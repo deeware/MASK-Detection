{
 "cells": [
  {
   "cell_type": "code",
   "execution_count": 1,
   "metadata": {},
   "outputs": [],
   "source": [
    "import numpy as np\n",
    "\n",
    "data=np.load('data.npy')\n",
    "target=np.load('target.npy')\n",
    "\n",
    "#loading the save numpy arrays in the previous code"
   ]
  },
  {
   "cell_type": "code",
   "execution_count": 2,
   "metadata": {},
   "outputs": [
    {
     "name": "stderr",
     "output_type": "stream",
     "text": [
      "Using TensorFlow backend.\n"
     ]
    }
   ],
   "source": [
    "from keras.models import Sequential\n",
    "from keras.layers import Dense,Activation,Flatten,Dropout\n",
    "from keras.layers import Conv2D,MaxPooling2D\n",
    "from keras.callbacks import ModelCheckpoint\n",
    "\n",
    "model=Sequential()\n",
    "\n",
    "model.add(Conv2D(200,(3,3),input_shape=data.shape[1:]))\n",
    "model.add(Activation('relu'))\n",
    "model.add(MaxPooling2D(pool_size=(2,2)))\n",
    "#The first CNN layer followed by Relu and MaxPooling layers\n",
    "\n",
    "model.add(Conv2D(100,(3,3)))\n",
    "model.add(Activation('relu'))\n",
    "model.add(MaxPooling2D(pool_size=(2,2)))\n",
    "#The second convolution layer followed by Relu and MaxPooling layers\n",
    "\n",
    "model.add(Flatten())\n",
    "model.add(Dropout(0.5))\n",
    "#Flatten layer to stack the output convolutions from second convolution layer\n",
    "model.add(Dense(50,activation='relu'))\n",
    "#Dense layer of 64 neurons\n",
    "model.add(Dense(2,activation='softmax'))\n",
    "#The Final layer with two outputs for two categories\n",
    "\n",
    "model.compile(loss='categorical_crossentropy',optimizer='adam',metrics=['accuracy'])"
   ]
  },
  {
   "cell_type": "code",
   "execution_count": 3,
   "metadata": {},
   "outputs": [],
   "source": [
    "from sklearn.model_selection import train_test_split\n",
    "\n",
    "train_data,test_data,train_target,test_target=train_test_split(data,target,test_size=0.1)    "
   ]
  },
  {
   "cell_type": "code",
   "execution_count": 4,
   "metadata": {},
   "outputs": [
    {
     "name": "stdout",
     "output_type": "stream",
     "text": [
      "Train on 990 samples, validate on 248 samples\n",
      "Epoch 1/20\n",
      "990/990 [==============================] - 47s 47ms/step - loss: 0.7037 - accuracy: 0.5505 - val_loss: 0.6536 - val_accuracy: 0.5444\n",
      "Epoch 2/20\n",
      "990/990 [==============================] - 43s 43ms/step - loss: 0.5888 - accuracy: 0.6677 - val_loss: 0.4436 - val_accuracy: 0.8589\n",
      "Epoch 3/20\n",
      "990/990 [==============================] - 42s 43ms/step - loss: 0.4046 - accuracy: 0.8121 - val_loss: 0.3272 - val_accuracy: 0.8548\n",
      "Epoch 4/20\n",
      "990/990 [==============================] - 42s 43ms/step - loss: 0.2923 - accuracy: 0.8848 - val_loss: 0.2496 - val_accuracy: 0.9073\n",
      "Epoch 5/20\n",
      "990/990 [==============================] - 39s 39ms/step - loss: 0.2342 - accuracy: 0.9152 - val_loss: 0.1961 - val_accuracy: 0.9234\n",
      "Epoch 6/20\n",
      "990/990 [==============================] - 39s 40ms/step - loss: 0.1891 - accuracy: 0.9354 - val_loss: 0.1880 - val_accuracy: 0.9355\n",
      "Epoch 7/20\n",
      "990/990 [==============================] - 41s 42ms/step - loss: 0.1700 - accuracy: 0.9394 - val_loss: 0.2221 - val_accuracy: 0.9194\n",
      "Epoch 8/20\n",
      "990/990 [==============================] - 40s 40ms/step - loss: 0.1466 - accuracy: 0.9475 - val_loss: 0.1353 - val_accuracy: 0.9516\n",
      "Epoch 9/20\n",
      "990/990 [==============================] - 37s 38ms/step - loss: 0.1133 - accuracy: 0.9677 - val_loss: 0.1248 - val_accuracy: 0.9476\n",
      "Epoch 10/20\n",
      "990/990 [==============================] - 40s 40ms/step - loss: 0.1201 - accuracy: 0.9566 - val_loss: 0.1623 - val_accuracy: 0.9395\n",
      "Epoch 11/20\n",
      "990/990 [==============================] - 38s 39ms/step - loss: 0.1152 - accuracy: 0.9646 - val_loss: 0.1617 - val_accuracy: 0.9315\n",
      "Epoch 12/20\n",
      "990/990 [==============================] - 37s 38ms/step - loss: 0.1020 - accuracy: 0.9636 - val_loss: 0.1416 - val_accuracy: 0.9435\n",
      "Epoch 13/20\n",
      "990/990 [==============================] - 37s 37ms/step - loss: 0.0882 - accuracy: 0.9697 - val_loss: 0.2005 - val_accuracy: 0.9355\n",
      "Epoch 14/20\n",
      "990/990 [==============================] - 37s 37ms/step - loss: 0.0902 - accuracy: 0.9657 - val_loss: 0.1255 - val_accuracy: 0.9516\n",
      "Epoch 15/20\n",
      "990/990 [==============================] - 38s 39ms/step - loss: 0.0644 - accuracy: 0.9768 - val_loss: 0.1225 - val_accuracy: 0.9516\n",
      "Epoch 16/20\n",
      "990/990 [==============================] - 40s 41ms/step - loss: 0.0490 - accuracy: 0.9818 - val_loss: 0.1530 - val_accuracy: 0.9476\n",
      "Epoch 17/20\n",
      "990/990 [==============================] - 40s 40ms/step - loss: 0.0386 - accuracy: 0.9879 - val_loss: 0.1019 - val_accuracy: 0.9677\n",
      "Epoch 18/20\n",
      "990/990 [==============================] - 44s 44ms/step - loss: 0.0681 - accuracy: 0.9778 - val_loss: 0.1338 - val_accuracy: 0.9597\n",
      "Epoch 19/20\n",
      "990/990 [==============================] - 44s 44ms/step - loss: 0.0295 - accuracy: 0.9879 - val_loss: 0.1183 - val_accuracy: 0.9637\n",
      "Epoch 20/20\n",
      "990/990 [==============================] - 44s 44ms/step - loss: 0.0294 - accuracy: 0.9889 - val_loss: 0.2300 - val_accuracy: 0.9435\n"
     ]
    }
   ],
   "source": [
    "checkpoint = ModelCheckpoint('model-{epoch:03d}.model',monitor='val_loss',verbose=0,save_best_only=True,mode='auto')\n",
    "history=model.fit(train_data,train_target,epochs=20,callbacks=[checkpoint],validation_split=0.2)"
   ]
  },
  {
   "cell_type": "markdown",
   "metadata": {},
   "source": [
    "from matplotlib import pyplot as plt\n",
    "\n",
    "plt.plot(history.history['loss'],'r',label='training loss')\n",
    "plt.plot(history.history['val_loss'],label='validation loss')\n",
    "plt.xlabel('# epochs')\n",
    "plt.ylabel('loss')\n",
    "plt.legend()\n",
    "plt.show()"
   ]
  },
  {
   "cell_type": "markdown",
   "metadata": {},
   "source": [
    "plt.plot(history.history['accuracy'],'r',label='training accuracy')\n",
    "plt.plot(history.history['val_accuracy'],label='validation accuracy')\n",
    "plt.xlabel('# epochs')\n",
    "plt.ylabel('loss')\n",
    "plt.legend()\n",
    "plt.show()"
   ]
  },
  {
   "cell_type": "code",
   "execution_count": 4,
   "metadata": {},
   "outputs": [
    {
     "name": "stdout",
     "output_type": "stream",
     "text": [
      "138/138 [==============================] - 5s 34ms/step\n",
      "[0.7037892669871233, 0.4275362193584442]\n"
     ]
    }
   ],
   "source": [
    "print(model.evaluate(test_data,test_target))"
   ]
  },
  {
   "cell_type": "code",
   "execution_count": null,
   "metadata": {},
   "outputs": [],
   "source": []
  },
  {
   "cell_type": "code",
   "execution_count": null,
   "metadata": {},
   "outputs": [],
   "source": []
  }
 ],
 "metadata": {
  "kernelspec": {
   "display_name": "Python 3",
   "language": "python",
   "name": "python3"
  },
  "language_info": {
   "codemirror_mode": {
    "name": "ipython",
    "version": 3
   },
   "file_extension": ".py",
   "mimetype": "text/x-python",
   "name": "python",
   "nbconvert_exporter": "python",
   "pygments_lexer": "ipython3",
   "version": "3.7.9"
  }
 },
 "nbformat": 4,
 "nbformat_minor": 2
}
